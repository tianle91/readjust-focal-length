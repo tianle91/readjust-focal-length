{
 "cells": [
  {
   "cell_type": "code",
   "execution_count": 1,
   "metadata": {},
   "outputs": [
    {
     "data": {
      "application/vnd.jupyter.widget-view+json": {
       "model_id": "15692847dcb74e93884ec3551f7265bb",
       "version_major": 2,
       "version_minor": 0
      },
      "text/plain": [
       "Fetching 19 files:   0%|          | 0/19 [00:00<?, ?it/s]"
      ]
     },
     "metadata": {},
     "output_type": "display_data"
    },
    {
     "name": "stderr",
     "output_type": "stream",
     "text": [
      "{'trained_betas'} was not found in config. Values will be initialized to default values.\n"
     ]
    },
    {
     "data": {
      "application/vnd.jupyter.widget-view+json": {
       "model_id": "f93c703af8f1416d810716db529389bc",
       "version_major": 2,
       "version_minor": 0
      },
      "text/plain": [
       "0it [00:00, ?it/s]"
      ]
     },
     "metadata": {},
     "output_type": "display_data"
    }
   ],
   "source": [
    "from io import BytesIO\n",
    "\n",
    "import torch\n",
    "import requests\n",
    "import PIL\n",
    "\n",
    "from diffusers import StableDiffusionInpaintPipeline\n",
    "\n",
    "def download_image(url):\n",
    "    response = requests.get(url)\n",
    "    return PIL.Image.open(BytesIO(response.content)).convert(\"RGB\")\n",
    "\n",
    "img_url = \"https://raw.githubusercontent.com/CompVis/latent-diffusion/main/data/inpainting_examples/overture-creations-5sI6fQgYIuo.png\"\n",
    "mask_url = \"https://raw.githubusercontent.com/CompVis/latent-diffusion/main/data/inpainting_examples/overture-creations-5sI6fQgYIuo_mask.png\"\n",
    "\n",
    "init_image = download_image(img_url).resize((512, 512))\n",
    "mask_image = download_image(mask_url).resize((512, 512))\n",
    "\n",
    "# device = \"cuda\"\n",
    "device = \"mps\"\n",
    "model_id_or_path = \"CompVis/stable-diffusion-v1-4\"\n",
    "pipe = StableDiffusionInpaintPipeline.from_pretrained(\n",
    "    model_id_or_path,\n",
    "    revision=\"fp16\", \n",
    "    # torch_dtype=torch.float16,\n",
    ")\n",
    "# or download via git clone https://huggingface.co/CompVis/stable-diffusion-v1-4\n",
    "# and pass `model_id_or_path=\"./stable-diffusion-v1-4\"`.\n",
    "pipe = pipe.to(device)\n",
    "\n",
    "prompt = \"a cat sitting on a bench\"\n",
    "images = pipe(prompt=prompt, init_image=init_image, mask_image=mask_image, strength=0.75).images\n",
    "images[0]"
   ]
  }
 ],
 "metadata": {
  "kernelspec": {
   "display_name": "Python 3.10.8 ('.venv': venv)",
   "language": "python",
   "name": "python3"
  },
  "language_info": {
   "codemirror_mode": {
    "name": "ipython",
    "version": 3
   },
   "file_extension": ".py",
   "mimetype": "text/x-python",
   "name": "python",
   "nbconvert_exporter": "python",
   "pygments_lexer": "ipython3",
   "version": "3.10.8"
  },
  "orig_nbformat": 4,
  "vscode": {
   "interpreter": {
    "hash": "51a1e90525d78d04a3cb8c920c0c445e5dac87a06a27b4d347b7720fe82373ed"
   }
  }
 },
 "nbformat": 4,
 "nbformat_minor": 2
}
